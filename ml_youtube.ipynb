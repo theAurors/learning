{
 "cells": [
  {
   "cell_type": "code",
   "execution_count": 12,
   "metadata": {},
   "outputs": [],
   "source": [
    "from statistics import mean\n",
    "import numpy as np\n",
    "import matplotlib.pyplot as plt\n",
    "from matplotlib import style"
   ]
  },
  {
   "cell_type": "code",
   "execution_count": 13,
   "metadata": {
    "collapsed": true
   },
   "outputs": [],
   "source": [
    "style.use('fivethirtyeight')"
   ]
  },
  {
   "cell_type": "code",
   "execution_count": 14,
   "metadata": {
    "collapsed": true
   },
   "outputs": [],
   "source": [
    "x = np.array([1,2,3,4,5,6],dtype=np.float64)\n",
    "y = np.array([5,6,7,8,9,2],dtype=np.float64)"
   ]
  },
  {
   "cell_type": "code",
   "execution_count": 16,
   "metadata": {},
   "outputs": [
    {
     "data": {
      "image/png": "[encoded data removed]",
      "text/plain": [
       "<matplotlib.figure.Figure at 0x7fa03c93fac8>"
      ]
     },
     "metadata": {},
     "output_type": "display_data"
    }
   ],
   "source": [
    "def slope_fit_intercept(x,y):\n",
    "    m = (mean(x)*mean(y) - mean(x*y))/((mean(x)*mean(x)) - mean(x*x))\n",
    "    b = mean(y)-m*mean(x)\n",
    "    return m,b\n",
    "m,b= slope_fit_intercept(x,y)\n",
    "\n",
    "regression_line = [(m*x)+b for i in x]\n",
    "\n",
    "predict_x = 8\n",
    "predict_y = (m*predict_x)+b\n",
    "plt.scatter(x,y)\n",
    "plt.scatter(predict_x,predict_y)\n",
    "\n",
    "plt.plot(x, regression_line)\n",
    "plt.show()\n",
    "# for i in x:\n",
    "#     regression_line.append()"
   ]
  }
 ],
 "metadata": {
  "kernelspec": {
   "display_name": "Python 3",
   "language": "python",
   "name": "python3"
  },
  "language_info": {
   "codemirror_mode": {
    "name": "ipython",
    "version": 3
   },
   "file_extension": ".py",
   "mimetype": "text/x-python",
   "name": "python",
   "nbconvert_exporter": "python",
   "pygments_lexer": "ipython3",
   "version": "3.5.2"
  }
 },
 "nbformat": 4,
 "nbformat_minor": 2
}
