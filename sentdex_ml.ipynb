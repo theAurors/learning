{
 "cells": [
  {
   "cell_type": "code",
   "execution_count": 1,
   "metadata": {},
   "outputs": [
    {
     "name": "stdout",
     "output_type": "stream",
     "text": [
      "0.000256818879432\n"
     ]
    },
    {
     "data": {
      "image/png": "[encoded data removed]",
      "text/plain": [
       "<matplotlib.figure.Figure at 0x7fe1a9ac3160>"
      ]
     },
     "metadata": {},
     "output_type": "display_data"
    }
   ],
   "source": [
    "from statistics import mean\n",
    "import numpy as np\n",
    "import matplotlib.pyplot as plt\n",
    "from matplotlib import style\n",
    "import random\n",
    "\n",
    "style.use('fivethirtyeight')\n",
    "\n",
    "# xs = np.array([1,2,3,4,5,6],dtype=np.float64)\n",
    "# ys = np.array([3,5,2,6,7,9],dtype=np.float64)\n",
    "\n",
    "def create_dataset(hm, variance, step=2, correlation=False):\n",
    "    val = 1\n",
    "    ys = []\n",
    "    for i in range(hm):\n",
    "            y = val + random.randrange(-variance, variance)\n",
    "            ys.append(y)\n",
    "            if correlation and correlation == 'pos':\n",
    "                val+=step\n",
    "            elif correlation and correlation == 'neg':\n",
    "                val-=step\n",
    "    xs = [i for i in range(len(ys))]\n",
    "    \n",
    "    return np.array(xs, dtype=np.float64), np.array(ys, dtype=np.float64)\n",
    "\n",
    "\n",
    "def best_fit_slope_and_intercept(xs,ys):\n",
    "    m = ( ((mean(xs)*mean(ys) ) - mean(xs*ys))/\n",
    "       ((mean(xs)**2) - mean(xs*xs)) )\n",
    "    b = mean(ys) - m*mean(xs)\n",
    "    return m,b\n",
    "\n",
    "def squared_error(ys_orig, ys_line):\n",
    "    return sum((ys_line-ys_orig)**2)\n",
    "\n",
    "def coeff_of_deter(ys_orig,ys_line):\n",
    "    y_mean_line = [mean(ys_orig) for y in ys_orig]\n",
    "    squared_error_regr = squared_error(ys_orig,ys_line)\n",
    "    squared_error_y_mean = squared_error(ys_orig, y_mean_line)\n",
    "    return 1 - (squared_error_regr/squared_error_y_mean)\n",
    "\n",
    "xs,ys = create_dataset(40,40,2,correlation=False)\n",
    "\n",
    "m,b = best_fit_slope_and_intercept(xs,ys)\n",
    "\n",
    "regression_line = [(m*x)+b for x in xs]\n",
    "\n",
    "\n",
    "predict_x = 8\n",
    "predict_y = (m*predict_x)+b\n",
    "\n",
    "r_squared = coeff_of_deter(ys, regression_line)\n",
    "print(r_squared)\n",
    "plt.scatter(xs,ys)\n",
    "plt.scatter(predict_x,predict_y, color = 'g')\n",
    "plt.plot(xs, regression_line)\n",
    "plt.show()"
   ]
  },
  {
   "cell_type": "code",
   "execution_count": null,
   "metadata": {
    "collapsed": true
   },
   "outputs": [],
   "source": []
  },
  {
   "cell_type": "code",
   "execution_count": null,
   "metadata": {
    "collapsed": true
   },
   "outputs": [],
   "source": []
  },
  {
   "cell_type": "code",
   "execution_count": null,
   "metadata": {
    "collapsed": true
   },
   "outputs": [],
   "source": []
  },
  {
   "cell_type": "code",
   "execution_count": null,
   "metadata": {
    "collapsed": true
   },
   "outputs": [],
   "source": []
  },
  {
   "cell_type": "code",
   "execution_count": null,
   "metadata": {
    "collapsed": true
   },
   "outputs": [],
   "source": [
    "import numpy as np\n",
    "from sklearn import preprocessing, cross_validation,neighbors\n",
    "import pandas as pd\n",
    "\n",
    "df = pd.read_csv('breast-cancer-wisconsin.data')\n",
    "df.replace('?',-99999, inplace=True)\n",
    "df.drop(['id'],1,inplace=True)\n",
    "\n",
    "x = np.array(df.drop(['class'],1))\n",
    "y = np.array(df['class'])\n",
    "x_train, x_test, y_train, y_test = cross_validation.train_test_split(x,y,test_size=0.2)\n",
    "\n",
    "clf = neighbors.KNeighborsClassifier()\n",
    "clf.fit(x_train,y_train)\n",
    "\n",
    "accuracy = clf.score(x_test,y_test)\n",
    "# print(accuracy)\n",
    "\n",
    "example_measures = np.array([[4,2,1,1,1,2,3,2,1],[4,2,1,1,1,2,3,2,1]])\n",
    "example_measures = example_measures.reshape(len(example_measures ), -1)\n",
    "\n",
    "prediction = clf.predict(example_measures)\n",
    "print(prediction)"
   ]
  }
 ],
 "metadata": {
  "kernelspec": {
   "display_name": "Python 3",
   "language": "python",
   "name": "python3"
  },
  "language_info": {
   "codemirror_mode": {
    "name": "ipython",
    "version": 3
   },
   "file_extension": ".py",
   "mimetype": "text/x-python",
   "name": "python",
   "nbconvert_exporter": "python",
   "pygments_lexer": "ipython3",
   "version": "3.5.2"
  }
 },
 "nbformat": 4,
 "nbformat_minor": 2
}
